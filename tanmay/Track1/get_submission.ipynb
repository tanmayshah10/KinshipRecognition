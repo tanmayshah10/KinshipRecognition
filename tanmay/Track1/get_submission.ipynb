{
 "cells": [
  {
   "cell_type": "code",
   "execution_count": 3,
   "metadata": {},
   "outputs": [],
   "source": [
    "#get a single model score \n",
    "sub= open('submission.csv', 'w')\n",
    "sub.write('index'+','+'label'+'\\n')\n",
    "i=0\n",
    "sub1s=open('predictions.csv', 'r').readlines()[1:]\n",
    "for sub1 in sub1s:\n",
    "    score=float(sub1.split(',')[1])\n",
    "    if score>=0.27:\n",
    "        score=1\n",
    "    else:\n",
    "        score=0\n",
    "    sub.write(str(i)+','+str(score)+'\\n')\n",
    "    i+=1\n",
    "sub.close()"
   ]
  },
  {
   "cell_type": "code",
   "execution_count": 5,
   "metadata": {},
   "outputs": [],
   "source": [
    "#model combine——Jury system\n",
    "sub= open('submission.csv', 'w')\n",
    "sub.write('index'+','+'label'+'\\n')\n",
    "j=0\n",
    "sub1s=open('predictions1.csv', 'r').readlines()[1:]\n",
    "sub2s=open('predictions2.csv', 'r').readlines()[1:]\n",
    "sub3s=open('predictions3.csv', 'r').readlines()[1:]\n",
    "sub4s=open('predictions4.csv', 'r').readlines()[1:]\n",
    "length=len(sub1s)\n",
    "for i in range(length):\n",
    "    score1=float(sub1s[i].split(',')[1])\n",
    "    score2=float(sub2s[i].split(',')[1])\n",
    "    score3=float(sub3s[i].split(',')[1])\n",
    "    score4=float(sub4s[i].split(',')[1])\n",
    "    if score1>=0.55:\n",
    "        score=1\n",
    "    if score1<0.10:\n",
    "        score=0\n",
    "    t=0.27\n",
    "    if score1>=t and ((score2>=t and score3>=t) or (score2>=t and score4>=t) or (score4>=t and score3>=t)):\n",
    "        score=1\n",
    "    if score1<t and ((score2<t or score3<t) or (score2<t or score4<t) or (score3<t or score4<t)):\n",
    "        score=0\n",
    "    if score1>=t  and ((score2<t  and score3<t and score4<t) or (score2>=t or score3>=t or score4>=t)) :\n",
    "#         score=0\n",
    "        temp=(score1+score2+score3+score4)/4.0\n",
    "        if temp<t:\n",
    "            score=0\n",
    "        else:\n",
    "            score=1\n",
    "\n",
    "    if score1<t and ((score2<t or score3<t or score4<t) or (score2>=t and score3>=t and score4>=t)):\n",
    "#         score=1\n",
    "        temp=(score1+score2+score3+score4)/4.0\n",
    "        if temp<t:\n",
    "            score=0\n",
    "        else:\n",
    "            score=1\n",
    "    sub.write(str(i)+','+str(score)+'\\n')\n",
    "    i+=1\n",
    "sub.close()"
   ]
  },
  {
   "cell_type": "code",
   "execution_count": null,
   "metadata": {},
   "outputs": [],
   "source": []
  }
 ],
 "metadata": {
  "kernelspec": {
   "display_name": "Python 3",
   "language": "python",
   "name": "python3"
  },
  "language_info": {
   "codemirror_mode": {
    "name": "ipython",
    "version": 3
   },
   "file_extension": ".py",
   "mimetype": "text/x-python",
   "name": "python",
   "nbconvert_exporter": "python",
   "pygments_lexer": "ipython3",
   "version": "3.7.3"
  }
 },
 "nbformat": 4,
 "nbformat_minor": 4
}
