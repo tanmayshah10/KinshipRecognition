{
 "cells": [
  {
   "cell_type": "code",
   "execution_count": 2,
   "id": "be203aa4",
   "metadata": {},
   "outputs": [
    {
     "name": "stderr",
     "output_type": "stream",
     "text": [
      "2021-08-11 14:18:19.339160: I tensorflow/stream_executor/platform/default/dso_loader.cc:49] Successfully opened dynamic library libcudart.so.10.1\n"
     ]
    },
    {
     "name": "stdout",
     "output_type": "stream",
     "text": [
      "Using VGGFace compatible with TensorFlow2.\n"
     ]
    }
   ],
   "source": [
    "from collections import defaultdict\n",
    "from glob import glob\n",
    "from random import choice, sample\n",
    "\n",
    "import cv2\n",
    "import numpy as np\n",
    "import pandas as pd\n",
    "\n",
    "import tensorflow as tf\n",
    "from tensorflow.keras.callbacks import ModelCheckpoint, ReduceLROnPlateau\n",
    "from tensorflow.keras.layers import Input, Dense, GlobalMaxPool2D, GlobalAvgPool2D, Concatenate, Multiply, Dropout, Subtract, LayerNormalization, BatchNormalization, Layer, Conv2D, InputSpec\n",
    "from tensorflow.keras.models import Model, Sequential\n",
    "from tensorflow.keras.optimizers import Adam\n",
    "from tensorflow.keras.regularizers import L2\n",
    "\n",
    "from tf2_keras_vggface.utils import preprocess_input\n",
    "from tf2_keras_vggface.vggface import VGGFace\n",
    "\n",
    "import os\n",
    "import functools\n",
    "import matplotlib.pyplot as plt\n",
    "os.environ[\"CUDA_VISIBLE_DEVICES\"] = \"1\""
   ]
  },
  {
   "cell_type": "code",
   "execution_count": 3,
   "id": "1bd4a625",
   "metadata": {},
   "outputs": [],
   "source": [
    "# Hyperparameters\n",
    "BASE_MODEL = 'vgg16'\n",
    "INPUT_SHAPE = (224, 224,)\n",
    "\n",
    "# Modify paths as per your method of saving them\n",
    "BASE_PATH = \"/root/KinshipRecognition\"\n",
    "TRAIN_FILE_PATH = f\"{BASE_PATH}/data/aug_train_ds.csv\"\n",
    "TRAIN_FOLDERS_PATH = f\"{BASE_PATH}/data/train/train-faces/\""
   ]
  },
  {
   "cell_type": "code",
   "execution_count": 4,
   "id": "daebb08f",
   "metadata": {},
   "outputs": [],
   "source": [
    "def read_img(path, input_shape):\n",
    "    img = cv2.imread(path, -1)\n",
    "    img = cv2.resize(img, input_shape)\n",
    "    img = cv2.normalize(img,  np.zeros(img.shape[:2]), 0, 255, cv2.NORM_MINMAX)\n",
    "    return np.array(img).astype(np.float)"
   ]
  },
  {
   "cell_type": "code",
   "execution_count": 5,
   "id": "072ede33",
   "metadata": {},
   "outputs": [
    {
     "name": "stderr",
     "output_type": "stream",
     "text": [
      "2021-08-11 14:18:20.517945: I tensorflow/compiler/jit/xla_cpu_device.cc:41] Not creating XLA devices, tf_xla_enable_xla_devices not set\n",
      "2021-08-11 14:18:20.518691: I tensorflow/stream_executor/platform/default/dso_loader.cc:49] Successfully opened dynamic library libcuda.so.1\n",
      "2021-08-11 14:18:20.628559: I tensorflow/core/common_runtime/gpu/gpu_device.cc:1720] Found device 0 with properties: \n",
      "pciBusID: 0000:d8:00.0 name: Tesla V100-PCIE-32GB computeCapability: 7.0\n",
      "coreClock: 1.38GHz coreCount: 80 deviceMemorySize: 31.75GiB deviceMemoryBandwidth: 836.37GiB/s\n",
      "2021-08-11 14:18:20.628589: I tensorflow/stream_executor/platform/default/dso_loader.cc:49] Successfully opened dynamic library libcudart.so.10.1\n",
      "2021-08-11 14:18:20.630158: I tensorflow/stream_executor/platform/default/dso_loader.cc:49] Successfully opened dynamic library libcublas.so.10\n",
      "2021-08-11 14:18:20.630213: I tensorflow/stream_executor/platform/default/dso_loader.cc:49] Successfully opened dynamic library libcublasLt.so.10\n",
      "2021-08-11 14:18:20.631834: I tensorflow/stream_executor/platform/default/dso_loader.cc:49] Successfully opened dynamic library libcufft.so.10\n",
      "2021-08-11 14:18:20.632096: I tensorflow/stream_executor/platform/default/dso_loader.cc:49] Successfully opened dynamic library libcurand.so.10\n",
      "2021-08-11 14:18:20.633687: I tensorflow/stream_executor/platform/default/dso_loader.cc:49] Successfully opened dynamic library libcusolver.so.10\n",
      "2021-08-11 14:18:20.634546: I tensorflow/stream_executor/platform/default/dso_loader.cc:49] Successfully opened dynamic library libcusparse.so.10\n",
      "2021-08-11 14:18:20.638129: I tensorflow/stream_executor/platform/default/dso_loader.cc:49] Successfully opened dynamic library libcudnn.so.7\n",
      "2021-08-11 14:18:20.640812: I tensorflow/core/common_runtime/gpu/gpu_device.cc:1862] Adding visible gpu devices: 0\n",
      "2021-08-11 14:18:20.641211: I tensorflow/core/platform/cpu_feature_guard.cc:142] This TensorFlow binary is optimized with oneAPI Deep Neural Network Library (oneDNN) to use the following CPU instructions in performance-critical operations:  SSE4.1 SSE4.2 AVX AVX2 AVX512F FMA\n",
      "To enable them in other operations, rebuild TensorFlow with the appropriate compiler flags.\n",
      "2021-08-11 14:18:20.652031: I tensorflow/core/common_runtime/gpu/gpu_device.cc:1720] Found device 0 with properties: \n",
      "pciBusID: 0000:d8:00.0 name: Tesla V100-PCIE-32GB computeCapability: 7.0\n",
      "coreClock: 1.38GHz coreCount: 80 deviceMemorySize: 31.75GiB deviceMemoryBandwidth: 836.37GiB/s\n",
      "2021-08-11 14:18:20.652095: I tensorflow/stream_executor/platform/default/dso_loader.cc:49] Successfully opened dynamic library libcudart.so.10.1\n",
      "2021-08-11 14:18:20.652136: I tensorflow/stream_executor/platform/default/dso_loader.cc:49] Successfully opened dynamic library libcublas.so.10\n",
      "2021-08-11 14:18:20.652164: I tensorflow/stream_executor/platform/default/dso_loader.cc:49] Successfully opened dynamic library libcublasLt.so.10\n",
      "2021-08-11 14:18:20.652192: I tensorflow/stream_executor/platform/default/dso_loader.cc:49] Successfully opened dynamic library libcufft.so.10\n",
      "2021-08-11 14:18:20.652220: I tensorflow/stream_executor/platform/default/dso_loader.cc:49] Successfully opened dynamic library libcurand.so.10\n",
      "2021-08-11 14:18:20.652247: I tensorflow/stream_executor/platform/default/dso_loader.cc:49] Successfully opened dynamic library libcusolver.so.10\n",
      "2021-08-11 14:18:20.652274: I tensorflow/stream_executor/platform/default/dso_loader.cc:49] Successfully opened dynamic library libcusparse.so.10\n",
      "2021-08-11 14:18:20.652302: I tensorflow/stream_executor/platform/default/dso_loader.cc:49] Successfully opened dynamic library libcudnn.so.7\n",
      "2021-08-11 14:18:20.663727: I tensorflow/core/common_runtime/gpu/gpu_device.cc:1862] Adding visible gpu devices: 0\n",
      "2021-08-11 14:18:20.663930: I tensorflow/stream_executor/platform/default/dso_loader.cc:49] Successfully opened dynamic library libcudart.so.10.1\n",
      "2021-08-11 14:18:21.227846: I tensorflow/core/common_runtime/gpu/gpu_device.cc:1261] Device interconnect StreamExecutor with strength 1 edge matrix:\n",
      "2021-08-11 14:18:21.227878: I tensorflow/core/common_runtime/gpu/gpu_device.cc:1267]      0 \n",
      "2021-08-11 14:18:21.227883: I tensorflow/core/common_runtime/gpu/gpu_device.cc:1280] 0:   N \n",
      "2021-08-11 14:18:21.232795: I tensorflow/core/common_runtime/gpu/gpu_device.cc:1406] Created TensorFlow device (/job:localhost/replica:0/task:0/device:GPU:0 with 30130 MB memory) -> physical GPU (device: 0, name: Tesla V100-PCIE-32GB, pci bus id: 0000:d8:00.0, compute capability: 7.0)\n",
      "2021-08-11 14:18:21.233166: I tensorflow/compiler/jit/xla_gpu_device.cc:99] Not creating XLA devices, tf_xla_enable_xla_devices not set\n"
     ]
    },
    {
     "name": "stdout",
     "output_type": "stream",
     "text": [
      "Model: \"vggface_vgg16\"\n",
      "_________________________________________________________________\n",
      "Layer (type)                 Output Shape              Param #   \n",
      "=================================================================\n",
      "input_1 (InputLayer)         [(None, None, None, 3)]   0         \n",
      "_________________________________________________________________\n",
      "conv1_1 (Conv2D)             (None, None, None, 64)    1792      \n",
      "_________________________________________________________________\n",
      "conv1_2 (Conv2D)             (None, None, None, 64)    36928     \n",
      "_________________________________________________________________\n",
      "pool1 (MaxPooling2D)         (None, None, None, 64)    0         \n",
      "_________________________________________________________________\n",
      "conv2_1 (Conv2D)             (None, None, None, 128)   73856     \n",
      "_________________________________________________________________\n",
      "conv2_2 (Conv2D)             (None, None, None, 128)   147584    \n",
      "_________________________________________________________________\n",
      "pool2 (MaxPooling2D)         (None, None, None, 128)   0         \n",
      "_________________________________________________________________\n",
      "conv3_1 (Conv2D)             (None, None, None, 256)   295168    \n",
      "_________________________________________________________________\n",
      "conv3_2 (Conv2D)             (None, None, None, 256)   590080    \n",
      "_________________________________________________________________\n",
      "conv3_3 (Conv2D)             (None, None, None, 256)   590080    \n",
      "_________________________________________________________________\n",
      "pool3 (MaxPooling2D)         (None, None, None, 256)   0         \n",
      "_________________________________________________________________\n",
      "conv4_1 (Conv2D)             (None, None, None, 512)   1180160   \n",
      "_________________________________________________________________\n",
      "conv4_2 (Conv2D)             (None, None, None, 512)   2359808   \n",
      "_________________________________________________________________\n",
      "conv4_3 (Conv2D)             (None, None, None, 512)   2359808   \n",
      "_________________________________________________________________\n",
      "pool4 (MaxPooling2D)         (None, None, None, 512)   0         \n",
      "_________________________________________________________________\n",
      "conv5_1 (Conv2D)             (None, None, None, 512)   2359808   \n",
      "_________________________________________________________________\n",
      "conv5_2 (Conv2D)             (None, None, None, 512)   2359808   \n",
      "_________________________________________________________________\n",
      "conv5_3 (Conv2D)             (None, None, None, 512)   2359808   \n",
      "_________________________________________________________________\n",
      "pool5 (MaxPooling2D)         (None, None, None, 512)   0         \n",
      "=================================================================\n",
      "Total params: 14,714,688\n",
      "Trainable params: 14,714,688\n",
      "Non-trainable params: 0\n",
      "_________________________________________________________________\n"
     ]
    }
   ],
   "source": [
    "# Load model\n",
    "backbone = VGGFace(model=BASE_MODEL, include_top=False)\n",
    "backbone.summary()\n"
   ]
  },
  {
   "cell_type": "code",
   "execution_count": 6,
   "id": "5a358a8b",
   "metadata": {},
   "outputs": [],
   "source": [
    "# Load sample image\n",
    "sample_img = glob(F\"{TRAIN_FOLDERS_PATH}/*/*/*\")[1250]\n",
    "sample_img = read_img(sample_img, INPUT_SHAPE)\n",
    "sample_img = tf.Variable(np.expand_dims(sample_img, axis=0), dtype=tf.float32, trainable=False) \n"
   ]
  },
  {
   "cell_type": "code",
   "execution_count": 7,
   "id": "c667f10d",
   "metadata": {},
   "outputs": [
    {
     "name": "stderr",
     "output_type": "stream",
     "text": [
      "2021-08-11 14:18:21.954595: I tensorflow/stream_executor/platform/default/dso_loader.cc:49] Successfully opened dynamic library libcudnn.so.7\n",
      "2021-08-11 14:18:23.096686: I tensorflow/stream_executor/platform/default/dso_loader.cc:49] Successfully opened dynamic library libcublas.so.10\n"
     ]
    },
    {
     "name": "stdout",
     "output_type": "stream",
     "text": [
      "(1, 28, 28, 512)\n"
     ]
    },
    {
     "data": {
      "image/png": "[encoded data removed]",
      "text/plain": [
       "<Figure size 432x288 with 16 Axes>"
      ]
     },
     "metadata": {},
     "output_type": "display_data"
    }
   ],
   "source": [
    "# Output for layer 1\n",
    "inputs = Input(shape=INPUT_SHAPE + (3,))\n",
    "seq = Sequential()\n",
    "seq.add(inputs)\n",
    "for l in backbone.layers[:12]:\n",
    "    seq.add(l)\n",
    "out = seq(sample_img)\n",
    "print(out.shape)\n",
    "ix = 1\n",
    "for i in range(4):\n",
    "    for j in range(4):\n",
    "        ax = plt.subplot(4, 4, ix)\n",
    "        ax.set_xticks([])\n",
    "        ax.set_yticks([])\n",
    "        # plot filter channel in grayscale\n",
    "        plt.imshow(out[0, :, :, 32+ix-1], cmap='gray')\n",
    "        ix += 1\n",
    "# show the figure\n",
    "plt.show()"
   ]
  },
  {
   "cell_type": "code",
   "execution_count": 8,
   "id": "6f5576d0",
   "metadata": {},
   "outputs": [],
   "source": [
    "class SelfAttentionKernel(Layer):\n",
    "    \n",
    "    def __init__(self, units, kernel_dim2D, key_dim, \n",
    "                 query_dim=None, value_dim=None, output_dim=None,\n",
    "                 kernel_initializer=\"glorot_uniform\", kernel_regularizer='l2', **kwargs):\n",
    "    \n",
    "        super(SelfAttentionKernel, self).__init__(**kwargs)\n",
    "        \n",
    "        self.units = units # Same as num_output_channels\n",
    "        self.key_dim = key_dim\n",
    "        self.query_dim = query_dim if query_dim else key_dim\n",
    "        self.value_dim = value_dim if value_dim else key_dim\n",
    "        self.output_dim = output_dim if output_dim else key_dim\n",
    "        assert len(kernel_dim.shape) == 2\n",
    "        self.kernel_dim2D = kernel_dim\n",
    "        self.kernel_len = kernel_dim[0] * kernel_dim[1]\n",
    "        self.kernel_initializer = kernel_initializer\n",
    "        self.kernel_regularizer = kernel_regularizer\n",
    "        \n",
    "        self.key_w = None\n",
    "        self.query_w = None\n",
    "        self.value_w = None\n",
    "        self.scale = self.key_dim ** -0.5\n",
    "        \n",
    "    def build(self, input_shape):\n",
    "        \n",
    "        self.query_w = self.add_weight(shape=(self.units, self.query_dim, self.output_dim),\n",
    "                                       initializer=self.kernel_initializer,\n",
    "                                       regularizer=self.kernel_regularizer,\n",
    "                                       trainable=True)\n",
    "        self.key_w = self.add_weight(shape=(self.units, self.key_dim, self.output_dim),\n",
    "                                     initializer=self.kernel_initializer,\n",
    "                                     regularizer=self.kernel_regularizer,\n",
    "                                     trainable=True)\n",
    "        self.value_w = self.add_weight(shape=(self.units, self.value_dim, self.kernel_len),\n",
    "                                     initializer=self.kernel_initializer,\n",
    "                                     regularizer=self.kernel_regularizer,\n",
    "                                     trainable=True)\n",
    "\n",
    "    def call(self, query, value, key=None):    \n",
    "        \n",
    "        key = key if key else value\n",
    "        # Required for self-attention\n",
    "        for i in range(len(query.shape)):\n",
    "            assert query.shape[i] == key.shape[i]\n",
    "            assert query.shape[i] == value.shape[i]\n",
    "        \n",
    "        qW = tf.matmul(tf.expand_dims(query, 1), self.query_w)\n",
    "        kW = tf.matmul(tf.expand_dims(key, 1), self.key_w)\n",
    "        dot = tf.matmul(qW, tf.transpose(kW, perm=(0, 1, 3, 2,)))\n",
    "        attn_w = tf.nn.softmax(dot * self.scale)\n",
    "        vW = tf.matmul(tf.expand_dims(value, 1), self.value_w)\n",
    "        flat_kernel = tf.einsum('ijkl, ijlm -> ijkm', attn_w, vW)\n",
    "        \n",
    "        return kernel\n",
    "    \n"
   ]
  },
  {
   "cell_type": "code",
   "execution_count": 9,
   "id": "88d4e33b",
   "metadata": {},
   "outputs": [],
   "source": [
    "from tensorflow.python.ops import nn_ops\n",
    "import functools\n",
    "\n",
    "class FixedConv2D(Conv2D):\n",
    "\n",
    "    def __init__(self,\n",
    "                 filters,\n",
    "                 kernel_size,\n",
    "                 strides=(1, 1),\n",
    "                 padding='valid',\n",
    "                 data_format=None,\n",
    "                 dilation_rate=(1, 1),\n",
    "                 groups=1,\n",
    "                 activation=None,\n",
    "                 use_bias=True,\n",
    "                 kernel_initializer='glorot_uniform',\n",
    "                 bias_initializer='zeros',\n",
    "                 kernel_regularizer=None,\n",
    "                 bias_regularizer=None,\n",
    "                 activity_regularizer=None,\n",
    "                 kernel_constraint=None,\n",
    "                 bias_constraint=None,\n",
    "                 **kwargs):\n",
    "\n",
    "        super(FixedConv2D, self).__init__(filters,\n",
    "                                          kernel_size,\n",
    "                                          strides=(1, 1),\n",
    "                                          padding='valid',\n",
    "                                          data_format=None,\n",
    "                                          dilation_rate=(1, 1),\n",
    "                                          groups=1,\n",
    "                                          activation=None,\n",
    "                                          use_bias=True,\n",
    "                                          kernel_initializer='glorot_uniform',\n",
    "                                          bias_initializer='zeros',\n",
    "                                          kernel_regularizer=None,\n",
    "                                          bias_regularizer=None,\n",
    "                                          activity_regularizer=None,\n",
    "                                          kernel_constraint=None,\n",
    "                                          bias_constraint=None,\n",
    "                                          **kwargs)\n",
    "\n",
    "    def build(self, input_shape):\n",
    "        input_shape = tf.TensorShape(input_shape)\n",
    "        input_channel = self._get_input_channel(input_shape)\n",
    "        if input_channel % self.groups != 0:\n",
    "            raise ValueError(\n",
    "              'The number of input channels must be evenly divisible by the number '\n",
    "              'of groups. Received groups={}, but the input has {} channels '\n",
    "              '(full input shape is {}).'.format(self.groups, input_channel,\n",
    "                                                 input_shape))\n",
    "        kernel_shape = self.kernel_size + (input_channel // self.groups,\n",
    "                                           self.filters)\n",
    "\n",
    "        self.kernel = self.add_weight(\n",
    "            name='kernel',\n",
    "            shape=kernel_shape,\n",
    "            initializer='zeros',\n",
    "            trainable=False,\n",
    "            dtype=self.dtype)\n",
    "        if self.use_bias:\n",
    "            self.bias = self.add_weight(\n",
    "              name='bias',\n",
    "              shape=(self.filters,),\n",
    "              initializer=self.bias_initializer,\n",
    "              regularizer=self.bias_regularizer,\n",
    "              constraint=self.bias_constraint,\n",
    "              trainable=True,\n",
    "              dtype=self.dtype)\n",
    "        else:\n",
    "            self.bias = None\n",
    "        channel_axis = self._get_channel_axis()\n",
    "        self.input_spec = InputSpec(min_ndim=self.rank + 2,\n",
    "                                    axes={channel_axis: input_channel})\n",
    "\n",
    "        # Convert Keras formats to TF native formats.\n",
    "        if self.padding == 'causal':\n",
    "            tf_padding = 'VALID'  # Causal padding handled in `call`.\n",
    "        elif isinstance(self.padding, str):\n",
    "            tf_padding = self.padding.upper()\n",
    "        else:\n",
    "            tf_padding = self.padding\n",
    "        tf_dilations = list(self.dilation_rate)\n",
    "        tf_strides = list(self.strides)\n",
    "\n",
    "        tf_op_name = self.__class__.__name__\n",
    "        if tf_op_name == 'Conv1D':\n",
    "            tf_op_name = 'conv1d'  # Backwards compat.\n",
    "\n",
    "        self._convolution_op = functools.partial(\n",
    "            nn_ops.convolution_v2,\n",
    "            strides=tf_strides,\n",
    "            padding=tf_padding,\n",
    "            dilations=tf_dilations,\n",
    "            data_format=self._tf_data_format,\n",
    "            name=tf_op_name)\n",
    "        self.built = True"
   ]
  },
  {
   "cell_type": "code",
   "execution_count": null,
   "id": "f94ffc6d",
   "metadata": {},
   "outputs": [],
   "source": []
  },
  {
   "cell_type": "code",
   "execution_count": null,
   "id": "b5271d6d",
   "metadata": {},
   "outputs": [],
   "source": []
  },
  {
   "cell_type": "code",
   "execution_count": null,
   "id": "4a4763f0",
   "metadata": {},
   "outputs": [],
   "source": []
  },
  {
   "cell_type": "code",
   "execution_count": 10,
   "id": "28bcb608",
   "metadata": {},
   "outputs": [],
   "source": [
    "conv = FixedConv2D(2, (4, 4), trainable=False)"
   ]
  },
  {
   "cell_type": "code",
   "execution_count": 11,
   "id": "fece233c",
   "metadata": {},
   "outputs": [],
   "source": [
    "conv.build((224, 224, 3,))"
   ]
  },
  {
   "cell_type": "code",
   "execution_count": 12,
   "id": "1f5d9d44",
   "metadata": {},
   "outputs": [
    {
     "data": {
      "text/plain": [
       "False"
      ]
     },
     "execution_count": 12,
     "metadata": {},
     "output_type": "execute_result"
    }
   ],
   "source": [
    "conv.weights[1].trainable\n"
   ]
  },
  {
   "cell_type": "code",
   "execution_count": 13,
   "id": "699616b5",
   "metadata": {},
   "outputs": [
    {
     "data": {
      "text/plain": [
       "TensorShape([4, 4, 3, 2])"
      ]
     },
     "execution_count": 13,
     "metadata": {},
     "output_type": "execute_result"
    }
   ],
   "source": [
    "conv.kernel.shape"
   ]
  },
  {
   "cell_type": "code",
   "execution_count": 31,
   "id": "945047ab",
   "metadata": {},
   "outputs": [],
   "source": [
    "q = tf.ones(shape=(5, 512, 784), dtype=tf.float32)\n",
    "k = tf.ones(shape=(5, 512, 784), dtype=tf.float32)\n",
    "v = tf.ones(shape=(5, 512, 784), dtype=tf.float32)\n",
    "W = tf.ones(shape=(100, 784, 6), dtype=tf.float32)\n",
    "qW = tf.matmul(tf.expand_dims(q, 1), W)\n",
    "kW = tf.matmul(tf.expand_dims(k, 1), W)\n",
    "dot = tf.matmul(qW, tf.transpose(kW, perm=(0, 1, 3, 2,)))\n",
    "attn_w = tf.nn.softmax(dot)\n",
    "vW = tf.matmul(tf.expand_dims(v, 1), W)\n",
    "flat_kernel = tf.einsum('ijkl, ijlm -> ijkm', attn_w, vW)"
   ]
  },
  {
   "cell_type": "code",
   "execution_count": 32,
   "id": "471025a5",
   "metadata": {},
   "outputs": [],
   "source": [
    "# (batch, heads/out_channels, input_channels(512) ,kernel_size (a, b))"
   ]
  },
  {
   "cell_type": "code",
   "execution_count": 33,
   "id": "b9e0aea3",
   "metadata": {},
   "outputs": [
    {
     "data": {
      "text/plain": [
       "TensorShape([5, 100, 512, 6])"
      ]
     },
     "execution_count": 33,
     "metadata": {},
     "output_type": "execute_result"
    }
   ],
   "source": [
    "flat_kernel.shape"
   ]
  },
  {
   "cell_type": "code",
   "execution_count": null,
   "id": "2235bfa5",
   "metadata": {},
   "outputs": [],
   "source": [
    "flat_kernel.reshape()"
   ]
  }
 ],
 "metadata": {
  "kernelspec": {
   "display_name": "Python 3 (ipykernel)",
   "language": "python",
   "name": "python3"
  },
  "language_info": {
   "codemirror_mode": {
    "name": "ipython",
    "version": 3
   },
   "file_extension": ".py",
   "mimetype": "text/x-python",
   "name": "python",
   "nbconvert_exporter": "python",
   "pygments_lexer": "ipython3",
   "version": "3.9.6"
  }
 },
 "nbformat": 4,
 "nbformat_minor": 5
}
